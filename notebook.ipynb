{
 "cells": [
  {
   "cell_type": "markdown",
   "metadata": {},
   "source": [
    "# SWANA Census analysis\n",
    "\n",
    "By [Ellis Simani](https://twitter.com/emsimani) and [Ben Welsh](https://palewi.re/who-is-ben-welsh/)\n",
    "\n",
    "This analysis was conducted for the March 28, 2019, Los Angeles Times story [\"Are Arabs and Iranians white? Census says yes, but many disagree\"](https://www.latimes.com/projects/la-me-census-middle-east-north-africa-race/).\n",
    "\n",
    "It found roughly 3 million people of Southwest Asian, Middle Eastern or North African descent live in the United States. No county is home to more of these communities than Los Angeles, where more than 350,000 people can trace their roots to a region that stretches from Mauritania to the mountains of Afghanistan. In past census surveys, more than 80% in this group have called themselves white.\n",
    "\n",
    "Here's how we did it:"
   ]
  },
  {
   "cell_type": "markdown",
   "metadata": {},
   "source": [
    "### Import Python tools"
   ]
  },
  {
   "cell_type": "code",
   "execution_count": 87,
   "metadata": {},
   "outputs": [],
   "source": [
    "import warnings\n",
    "import pandas as pd\n",
    "import altair as alt\n",
    "import altair_latimes as lat"
   ]
  },
  {
   "cell_type": "code",
   "execution_count": 88,
   "metadata": {},
   "outputs": [],
   "source": [
    "warnings.simplefilter(\"ignore\")"
   ]
  },
  {
   "cell_type": "code",
   "execution_count": 89,
   "metadata": {},
   "outputs": [
    {
     "data": {
      "text/plain": [
       "ThemeRegistry.enable('latimes')"
      ]
     },
     "execution_count": 89,
     "metadata": {},
     "output_type": "execute_result"
    }
   ],
   "source": [
    "alt.themes.register('latimes', lat.theme)\n",
    "alt.themes.enable('latimes')"
   ]
  },
  {
   "cell_type": "markdown",
   "metadata": {},
   "source": [
    "### How many people of these ancestries live in the United States?\n",
    "\n",
    "Doing this requires analysis of the ancestry question asked by the American Community Survey. To come to our answer, we will consult several different sources."
   ]
  },
  {
   "cell_type": "markdown",
   "metadata": {},
   "source": [
    "First, we look to the Census itself. As part of its [2015 National Content Test Race and Ethnicity Analysis Report](https://www2.census.gov/programs-surveys/decennial/2020/program-management/final-analysis-reports/2015nct-race-ethnicity-analysis.pdf) it estimated the population of people from the Middle East and North Africa (MENA) at 3.1 million."
   ]
  },
  {
   "cell_type": "markdown",
   "metadata": {},
   "source": [
    "<img src=\"input/census-mena-estimate.png\">"
   ]
  },
  {
   "cell_type": "markdown",
   "metadata": {},
   "source": [
    "Next, we consult the table B04006 from the American Community Survey, which Census officials recommended for this analysis. The agency has also recent used this table itself to report on [the number of Irish Americans](https://www.census.gov/newsroom/facts-for-features/2017/cb17-ff05.html)."
   ]
  },
  {
   "cell_type": "code",
   "execution_count": 90,
   "metadata": {},
   "outputs": [],
   "source": [
    "acs_B04006_data = pd.read_csv(\"./input/ACS_17_1YR_B04006_with_ann.csv\")"
   ]
  },
  {
   "cell_type": "markdown",
   "metadata": {},
   "source": [
    "The ACS ancestry totals records are filtered down to the subset of ancestries that correspond to the description of the MENA group developed in the Census report."
   ]
  },
  {
   "cell_type": "code",
   "execution_count": 91,
   "metadata": {},
   "outputs": [],
   "source": [
    "acs_ancestry_codes = pd.read_csv(\"./input/acs_ancestry_codes.csv\")"
   ]
  },
  {
   "cell_type": "code",
   "execution_count": 92,
   "metadata": {},
   "outputs": [],
   "source": [
    "acs_mena_codes = acs_ancestry_codes[acs_ancestry_codes.mena]"
   ]
  },
  {
   "cell_type": "code",
   "execution_count": 93,
   "metadata": {},
   "outputs": [
    {
     "name": "stdout",
     "output_type": "stream",
     "text": [
      "2,722,452\n"
     ]
    }
   ],
   "source": [
    "print(\"{:,d}\".format(acs_B04006_data[list(acs_mena_codes.field)].sum(axis=1)[0]))"
   ]
  },
  {
   "cell_type": "markdown",
   "metadata": {},
   "source": [
    "In the story we also refer to a slightly wider group of ancestries that including people from countries that neighbor the Middle East, like Afghanistan, Armenia and Turkey. This group is sometimes described as SWANA, referring to Southwest Asia and North Africa. What are the ACS totals if we cast the net wider to include those ancestries?"
   ]
  },
  {
   "cell_type": "code",
   "execution_count": 94,
   "metadata": {},
   "outputs": [],
   "source": [
    "acs_swana_codes = acs_ancestry_codes[acs_ancestry_codes.swana]"
   ]
  },
  {
   "cell_type": "code",
   "execution_count": 95,
   "metadata": {},
   "outputs": [
    {
     "name": "stdout",
     "output_type": "stream",
     "text": [
      "3,793,489\n"
     ]
    }
   ],
   "source": [
    "print(\"{:,d}\".format(acs_B04006_data[list(acs_swana_codes.field)].sum(axis=1)[0]))"
   ]
  },
  {
   "cell_type": "markdown",
   "metadata": {},
   "source": [
    "Finally, we will look to the IPUMS microdata, which provides a wider set of ancestries provided by 5% of respondants who have their complete questionarre released. This provides the possibility of more precision, but is limited to the answers entered on the first of two boxes that follow the question."
   ]
  },
  {
   "cell_type": "code",
   "execution_count": 96,
   "metadata": {},
   "outputs": [],
   "source": [
    "ipums_ancestry_data = pd.read_csv(\"input/ipums.csv\")"
   ]
  },
  {
   "cell_type": "markdown",
   "metadata": {},
   "source": [
    "In the same manner as the ACS data, the ancestry codes in the IPUMS data must be restricted to the countries of origin that we are studying. Again, we're collected them all from the source and coded them based on whether they qualify for our work."
   ]
  },
  {
   "cell_type": "code",
   "execution_count": 97,
   "metadata": {},
   "outputs": [],
   "source": [
    "ipums_ancestry_codes = pd.read_csv(\"./input/ipums_ancestry_codes.csv\")"
   ]
  },
  {
   "cell_type": "code",
   "execution_count": 98,
   "metadata": {},
   "outputs": [],
   "source": [
    "ipums_mena_codes = ipums_ancestry_codes[ipums_ancestry_codes.mena]"
   ]
  },
  {
   "cell_type": "code",
   "execution_count": 99,
   "metadata": {},
   "outputs": [],
   "source": [
    "ipums_mena_data = ipums_ancestry_data[ipums_ancestry_data.ancestry_code.isin(ipums_mena_codes.ancestry_code)]"
   ]
  },
  {
   "cell_type": "code",
   "execution_count": 100,
   "metadata": {},
   "outputs": [
    {
     "name": "stdout",
     "output_type": "stream",
     "text": [
      "2,290,654\n"
     ]
    }
   ],
   "source": [
    "print(\"{:,d}\".format(ipums_mena_data.total.sum()))"
   ]
  },
  {
   "cell_type": "markdown",
   "metadata": {},
   "source": [
    "Lets do the same for the wider SWANA group."
   ]
  },
  {
   "cell_type": "code",
   "execution_count": 101,
   "metadata": {},
   "outputs": [],
   "source": [
    "ipums_swana_codes = ipums_ancestry_codes[ipums_ancestry_codes.swana]"
   ]
  },
  {
   "cell_type": "code",
   "execution_count": 102,
   "metadata": {},
   "outputs": [],
   "source": [
    "ipums_swana_data = ipums_ancestry_data[ipums_ancestry_data.ancestry_code.isin(ipums_swana_codes.ancestry_code)]"
   ]
  },
  {
   "cell_type": "code",
   "execution_count": 103,
   "metadata": {},
   "outputs": [
    {
     "name": "stdout",
     "output_type": "stream",
     "text": [
      "3,241,727\n"
     ]
    }
   ],
   "source": [
    "print(\"{:,d}\".format(ipums_swana_data.total.sum()))"
   ]
  },
  {
   "cell_type": "markdown",
   "metadata": {},
   "source": [
    "With these slight variations between the totals, depending on the source, we decided to describe this group by saying \"roughly 3 million people of Southwest Asian, Middle Eastern or North African descent live in the United States.\""
   ]
  },
  {
   "cell_type": "markdown",
   "metadata": {},
   "source": [
    "### Which race do people in this group claim?"
   ]
  },
  {
   "cell_type": "markdown",
   "metadata": {},
   "source": [
    "We can investigate this question by returning the IPUMS microdata, which includes a crosstab of each ancestry group with the question each respondant gave to the question asking their race. To simplify the analysis, we will look at what percentage of people in this group, when confronted with the Census Bureau's limited menu of races, have called themselves white."
   ]
  },
  {
   "cell_type": "markdown",
   "metadata": {},
   "source": [
    "First for the narrow MENA group."
   ]
  },
  {
   "cell_type": "code",
   "execution_count": 104,
   "metadata": {},
   "outputs": [
    {
     "name": "stdout",
     "output_type": "stream",
     "text": [
      "0.89\n"
     ]
    }
   ],
   "source": [
    "print(\"{:.2f}\".format(ipums_mena_data.white_count.sum() / float(ipums_mena_data.total.sum())))"
   ]
  },
  {
   "cell_type": "markdown",
   "metadata": {},
   "source": [
    "Then for the broader SWANA group."
   ]
  },
  {
   "cell_type": "code",
   "execution_count": 105,
   "metadata": {},
   "outputs": [
    {
     "name": "stdout",
     "output_type": "stream",
     "text": [
      "0.82\n"
     ]
    }
   ],
   "source": [
    "print(\"{:.2f}\".format(ipums_swana_data.white_count.sum() / float(ipums_swana_data.total.sum())))"
   ]
  },
  {
   "cell_type": "markdown",
   "metadata": {},
   "source": [
    "Let's chart that to see the variation between ancestries."
   ]
  },
  {
   "cell_type": "code",
   "execution_count": 106,
   "metadata": {},
   "outputs": [
    {
     "data": {
      "application/vnd.vegalite.v2+json": {
       "$schema": "https://vega.github.io/schema/vega-lite/v2.6.0.json",
       "config": {
        "arc": {
         "fill": "#82c6df"
        },
        "area": {
         "fill": "#82c6df"
        },
        "axis": {
         "labelFont": "Benton Gothic, sans",
         "labelFontSize": 11.5,
         "labelFontWeight": "normal",
         "titleFont": "Benton Gothic Bold, sans",
         "titleFontSize": 13,
         "titleFontWeight": "normal"
        },
        "axisX": {
         "labelAngle": 0,
         "labelPadding": 4,
         "tickSize": 3
        },
        "axisY": {
         "labelBaseline": "middle",
         "maxExtent": 45,
         "minExtent": 45,
         "tickSize": 2,
         "titleAlign": "left",
         "titleAngle": 0,
         "titleX": -45,
         "titleY": -11
        },
        "background": "#ffffff",
        "bar": {
         "fill": "#82c6df"
        },
        "legend": {
         "labelFont": "Benton Gothic, sans",
         "labelFontSize": 11.5,
         "symbolType": "square",
         "titleFont": "Benton Gothic Bold, sans",
         "titleFontSize": 13,
         "titleFontWeight": "normal"
        },
        "line": {
         "stroke": "#82c6df",
         "strokeWidth": 3
        },
        "path": {
         "stroke": "#82c6df"
        },
        "point": {
         "stroke": "#82c6df"
        },
        "range": {
         "category": [
          "#3580b1",
          "#ec8431",
          "#ab7fb4",
          "#c89d29",
          "#adc839",
          "#829eb1"
         ],
         "diverging": [
          "#e68a4f",
          "#f4bb6a",
          "#f9e39c",
          "#dadfe2",
          "#a6b7c6",
          "#849eae"
         ],
         "heatmap": [
          "#fbf2c7",
          "#f9e39c",
          "#f8d36e",
          "#f4bb6a",
          "#e68a4f",
          "#d15a40",
          "#ab4232"
         ],
         "ordinal": [
          "#fbf2c7",
          "#f9e39c",
          "#f8d36e",
          "#f4bb6a",
          "#e68a4f",
          "#d15a40",
          "#ab4232"
         ],
         "ramp": [
          "#fbf2c7",
          "#f9e39c",
          "#f8d36e",
          "#f4bb6a",
          "#e68a4f",
          "#d15a40",
          "#ab4232"
         ]
        },
        "rect": {
         "fill": "#82c6df"
        },
        "shape": {
         "stroke": "#82c6df"
        },
        "symbol": {
         "fill": "#82c6df",
         "size": 30
        },
        "title": {
         "anchor": "start",
         "font": "Benton Gothic Bold, sans",
         "fontColor": "#000000",
         "fontSize": 22,
         "fontWeight": "normal"
        },
        "view": {
         "height": 450,
         "width": 800
        }
       },
       "data": {
        "name": "data-970c020dbc4b0947d28fc5eb8e5ae8f4"
       },
       "datasets": {
        "data-970c020dbc4b0947d28fc5eb8e5ae8f4": [
         {
          "ancestry_code": 416,
          "ancestry_name": "Iranian",
          "black_count": 51,
          "black_percent": 0,
          "chinese_count": 54,
          "chinese_percent": 0,
          "japanese_count": 0,
          "japanese_percent": 0,
          "native_count": 169,
          "native_percent": 0,
          "other_asian_count": 6647,
          "other_asian_percent": 1.6,
          "other_count": 1177,
          "other_percent": 0.3,
          "three_count": 1037,
          "three_percent": 0.2,
          "total": 423671,
          "two_count": 55763,
          "two_percent": 13.2,
          "white_count": 358773,
          "white_percent": 84.7
         },
         {
          "ancestry_code": 431,
          "ancestry_name": "Armenian",
          "black_count": 366,
          "black_percent": 0.1,
          "chinese_count": 174,
          "chinese_percent": 0,
          "japanese_count": 0,
          "japanese_percent": 0,
          "native_count": 128,
          "native_percent": 0,
          "other_asian_count": 190,
          "other_asian_percent": 0,
          "other_count": 351,
          "other_percent": 0.1,
          "three_count": 100,
          "three_percent": 0,
          "total": 411205,
          "two_count": 9363,
          "two_percent": 2.3,
          "white_count": 400533,
          "white_percent": 97.4
         },
         {
          "ancestry_code": 425,
          "ancestry_name": "Lebanese",
          "black_count": 608,
          "black_percent": 0.2,
          "chinese_count": 0,
          "chinese_percent": 0,
          "japanese_count": 0,
          "japanese_percent": 0,
          "native_count": 728,
          "native_percent": 0.2,
          "other_asian_count": 788,
          "other_asian_percent": 0.2,
          "other_count": 3496,
          "other_percent": 1,
          "three_count": 1498,
          "three_percent": 0.4,
          "total": 345524,
          "two_count": 12198,
          "two_percent": 3.5,
          "white_count": 326208,
          "white_percent": 94.4
         },
         {
          "ancestry_code": 402,
          "ancestry_name": "Egyptian",
          "black_count": 18215,
          "black_percent": 7.6,
          "chinese_count": 48,
          "chinese_percent": 0,
          "japanese_count": 0,
          "japanese_percent": 0,
          "native_count": 0,
          "native_percent": 0,
          "other_asian_count": 0,
          "other_asian_percent": 0,
          "other_count": 1145,
          "other_percent": 0.5,
          "three_count": 413,
          "three_percent": 0.2,
          "total": 238999,
          "two_count": 6948,
          "two_percent": 2.9,
          "white_count": 212230,
          "white_percent": 88.8
         },
         {
          "ancestry_code": 495,
          "ancestry_name": "Arab",
          "black_count": 4517,
          "black_percent": 1.9,
          "chinese_count": 0,
          "chinese_percent": 0,
          "japanese_count": 0,
          "japanese_percent": 0,
          "native_count": 0,
          "native_percent": 0,
          "other_asian_count": 1576,
          "other_asian_percent": 0.7,
          "other_count": 6378,
          "other_percent": 2.7,
          "three_count": 173,
          "three_percent": 0.1,
          "total": 238145,
          "two_count": 26619,
          "two_percent": 11.2,
          "white_count": 198882,
          "white_percent": 83.5
         },
         {
          "ancestry_code": 434,
          "ancestry_name": "Turkish",
          "black_count": 2337,
          "black_percent": 1.3,
          "chinese_count": 0,
          "chinese_percent": 0,
          "japanese_count": 0,
          "japanese_percent": 0,
          "native_count": 0,
          "native_percent": 0,
          "other_asian_count": 964,
          "other_asian_percent": 0.6,
          "other_count": 779,
          "other_percent": 0.4,
          "three_count": 0,
          "three_percent": 0,
          "total": 174800,
          "two_count": 4691,
          "two_percent": 2.7,
          "white_count": 166029,
          "white_percent": 95
         },
         {
          "ancestry_code": 568,
          "ancestry_name": "Somalian",
          "black_count": 165981,
          "black_percent": 96.8,
          "chinese_count": 0,
          "chinese_percent": 0,
          "japanese_count": 0,
          "japanese_percent": 0,
          "native_count": 0,
          "native_percent": 0,
          "other_asian_count": 577,
          "other_asian_percent": 0.3,
          "other_count": 90,
          "other_percent": 0.1,
          "three_count": 0,
          "three_percent": 0,
          "total": 171502,
          "two_count": 1261,
          "two_percent": 0.7,
          "white_count": 3593,
          "white_percent": 2.1
         },
         {
          "ancestry_code": 490,
          "ancestry_name": "Middle Eastern",
          "black_count": 988,
          "black_percent": 0.7,
          "chinese_count": 0,
          "chinese_percent": 0,
          "japanese_count": 0,
          "japanese_percent": 0,
          "native_count": 0,
          "native_percent": 0,
          "other_asian_count": 2197,
          "other_asian_percent": 1.6,
          "other_count": 1046,
          "other_percent": 0.8,
          "three_count": 200,
          "three_percent": 0.1,
          "total": 138375,
          "two_count": 7406,
          "two_percent": 5.4,
          "white_count": 126538,
          "white_percent": 91.4
         },
         {
          "ancestry_code": 417,
          "ancestry_name": "Iraqi",
          "black_count": 68,
          "black_percent": 0.1,
          "chinese_count": 0,
          "chinese_percent": 0,
          "japanese_count": 0,
          "japanese_percent": 0,
          "native_count": 0,
          "native_percent": 0,
          "other_asian_count": 2713,
          "other_asian_percent": 2,
          "other_count": 334,
          "other_percent": 0.2,
          "three_count": 0,
          "three_percent": 0,
          "total": 133824,
          "two_count": 8552,
          "two_percent": 6.4,
          "white_count": 122157,
          "white_percent": 91.3
         },
         {
          "ancestry_code": 429,
          "ancestry_name": "Syrian",
          "black_count": 82,
          "black_percent": 0.1,
          "chinese_count": 0,
          "chinese_percent": 0,
          "japanese_count": 0,
          "japanese_percent": 0,
          "native_count": 108,
          "native_percent": 0.1,
          "other_asian_count": 141,
          "other_asian_percent": 0.1,
          "other_count": 209,
          "other_percent": 0.2,
          "three_count": 0,
          "three_percent": 0,
          "total": 127690,
          "two_count": 4325,
          "two_percent": 3.4,
          "white_count": 122825,
          "white_percent": 96.2
         },
         {
          "ancestry_code": 600,
          "ancestry_name": "Afghan",
          "black_count": 299,
          "black_percent": 0.3,
          "chinese_count": 0,
          "chinese_percent": 0,
          "japanese_count": 0,
          "japanese_percent": 0,
          "native_count": 0,
          "native_percent": 0,
          "other_asian_count": 2986,
          "other_asian_percent": 2.6,
          "other_count": 152,
          "other_percent": 0.1,
          "three_count": 92,
          "three_percent": 0.1,
          "total": 113162,
          "two_count": 54880,
          "two_percent": 48.5,
          "white_count": 54753,
          "white_percent": 48.4
         },
         {
          "ancestry_code": 419,
          "ancestry_name": "Israeli",
          "black_count": 3740,
          "black_percent": 3.4,
          "chinese_count": 0,
          "chinese_percent": 0,
          "japanese_count": 0,
          "japanese_percent": 0,
          "native_count": 190,
          "native_percent": 0.2,
          "other_asian_count": 0,
          "other_asian_percent": 0,
          "other_count": 126,
          "other_percent": 0.1,
          "three_count": 0,
          "three_percent": 0,
          "total": 108577,
          "two_count": 4389,
          "two_percent": 4,
          "white_count": 100132,
          "white_percent": 92.2
         },
         {
          "ancestry_code": 465,
          "ancestry_name": "Palestinian",
          "black_count": 252,
          "black_percent": 0.2,
          "chinese_count": 0,
          "chinese_percent": 0,
          "japanese_count": 0,
          "japanese_percent": 0,
          "native_count": 0,
          "native_percent": 0,
          "other_asian_count": 559,
          "other_asian_percent": 0.5,
          "other_count": 1248,
          "other_percent": 1.2,
          "three_count": 542,
          "three_percent": 0.5,
          "total": 103195,
          "two_count": 11331,
          "two_percent": 11,
          "white_count": 89263,
          "white_percent": 86.5
         },
         {
          "ancestry_code": 406,
          "ancestry_name": "Moroccan",
          "black_count": 9404,
          "black_percent": 9.3,
          "chinese_count": 0,
          "chinese_percent": 0,
          "japanese_count": 0,
          "japanese_percent": 0,
          "native_count": 2251,
          "native_percent": 2.2,
          "other_asian_count": 632,
          "other_asian_percent": 0.6,
          "other_count": 12,
          "other_percent": 0,
          "three_count": 1613,
          "three_percent": 1.6,
          "total": 101004,
          "two_count": 5180,
          "two_percent": 5.1,
          "white_count": 81912,
          "white_percent": 81.1
         },
         {
          "ancestry_code": 482,
          "ancestry_name": "Assyrian/Chaldean/Syriac",
          "black_count": 767,
          "black_percent": 0.9,
          "chinese_count": 0,
          "chinese_percent": 0,
          "japanese_count": 0,
          "japanese_percent": 0,
          "native_count": 12,
          "native_percent": 0,
          "other_asian_count": 0,
          "other_asian_percent": 0,
          "other_count": 0,
          "other_percent": 0,
          "three_count": 0,
          "three_percent": 0,
          "total": 83727,
          "two_count": 6082,
          "two_percent": 7.3,
          "white_count": 76866,
          "white_percent": 91.8
         },
         {
          "ancestry_code": 421,
          "ancestry_name": "Jordanian",
          "black_count": 0,
          "black_percent": 0,
          "chinese_count": 0,
          "chinese_percent": 0,
          "japanese_count": 0,
          "japanese_percent": 0,
          "native_count": 0,
          "native_percent": 0,
          "other_asian_count": 291,
          "other_asian_percent": 0.4,
          "other_count": 436,
          "other_percent": 0.7,
          "three_count": 101,
          "three_percent": 0.2,
          "total": 65491,
          "two_count": 3192,
          "two_percent": 4.9,
          "white_count": 61471,
          "white_percent": 93.9
         },
         {
          "ancestry_code": 576,
          "ancestry_name": "Sudanese",
          "black_count": 56404,
          "black_percent": 90,
          "chinese_count": 0,
          "chinese_percent": 0,
          "japanese_count": 0,
          "japanese_percent": 0,
          "native_count": 0,
          "native_percent": 0,
          "other_asian_count": 0,
          "other_asian_percent": 0,
          "other_count": 3989,
          "other_percent": 6.4,
          "three_count": 66,
          "three_percent": 0.1,
          "total": 62682,
          "two_count": 988,
          "two_percent": 1.6,
          "white_count": 1235,
          "white_percent": 2
         },
         {
          "ancestry_code": 435,
          "ancestry_name": "Yemeni",
          "black_count": 528,
          "black_percent": 1,
          "chinese_count": 0,
          "chinese_percent": 0,
          "japanese_count": 0,
          "japanese_percent": 0,
          "native_count": 0,
          "native_percent": 0,
          "other_asian_count": 1071,
          "other_asian_percent": 1.9,
          "other_count": 0,
          "other_percent": 0,
          "three_count": 359,
          "three_percent": 0.6,
          "total": 55540,
          "two_count": 7626,
          "two_percent": 13.7,
          "white_count": 45956,
          "white_percent": 82.7
         },
         {
          "ancestry_code": 427,
          "ancestry_name": "Saudi Arabian",
          "black_count": 105,
          "black_percent": 0.3,
          "chinese_count": 0,
          "chinese_percent": 0,
          "japanese_count": 0,
          "japanese_percent": 0,
          "native_count": 0,
          "native_percent": 0,
          "other_asian_count": 1271,
          "other_asian_percent": 3.5,
          "other_count": 0,
          "other_percent": 0,
          "three_count": 111,
          "three_percent": 0.3,
          "total": 36264,
          "two_count": 8587,
          "two_percent": 23.7,
          "white_count": 26190,
          "white_percent": 72.2
         },
         {
          "ancestry_code": 496,
          "ancestry_name": "Other Arab",
          "black_count": 606,
          "black_percent": 2.7,
          "chinese_count": 0,
          "chinese_percent": 0,
          "japanese_count": 0,
          "japanese_percent": 0,
          "native_count": 0,
          "native_percent": 0,
          "other_asian_count": 371,
          "other_asian_percent": 1.7,
          "other_count": 336,
          "other_percent": 1.5,
          "three_count": 182,
          "three_percent": 0.8,
          "total": 22045,
          "two_count": 1791,
          "two_percent": 8.1,
          "white_count": 18759,
          "white_percent": 85.1
         },
         {
          "ancestry_code": 400,
          "ancestry_name": "Algerian",
          "black_count": 474,
          "black_percent": 2.7,
          "chinese_count": 0,
          "chinese_percent": 0,
          "japanese_count": 0,
          "japanese_percent": 0,
          "native_count": 0,
          "native_percent": 0,
          "other_asian_count": 0,
          "other_asian_percent": 0,
          "other_count": 0,
          "other_percent": 0,
          "three_count": 0,
          "three_percent": 0,
          "total": 17770,
          "two_count": 276,
          "two_percent": 1.6,
          "white_count": 17020,
          "white_percent": 95.8
         },
         {
          "ancestry_code": 120,
          "ancestry_name": "Georgian",
          "black_count": 0,
          "black_percent": 0,
          "chinese_count": 0,
          "chinese_percent": 0,
          "japanese_count": 0,
          "japanese_percent": 0,
          "native_count": 0,
          "native_percent": 0,
          "other_asian_count": 0,
          "other_asian_percent": 0,
          "other_count": 0,
          "other_percent": 0,
          "three_count": 0,
          "three_percent": 0,
          "total": 17722,
          "two_count": 0,
          "two_percent": 0,
          "white_count": 17722,
          "white_percent": 100
         },
         {
          "ancestry_code": 442,
          "ancestry_name": "Kurdish",
          "black_count": 0,
          "black_percent": 0,
          "chinese_count": 0,
          "chinese_percent": 0,
          "japanese_count": 0,
          "japanese_percent": 0,
          "native_count": 0,
          "native_percent": 0,
          "other_asian_count": 0,
          "other_asian_percent": 0,
          "other_count": 392,
          "other_percent": 2.2,
          "three_count": 127,
          "three_percent": 0.7,
          "total": 17662,
          "two_count": 3263,
          "two_percent": 18.5,
          "white_count": 13880,
          "white_percent": 78.6
         },
         {
          "ancestry_code": 411,
          "ancestry_name": "North African",
          "black_count": 1999,
          "black_percent": 12.7,
          "chinese_count": 0,
          "chinese_percent": 0,
          "japanese_count": 0,
          "japanese_percent": 0,
          "native_count": 0,
          "native_percent": 0,
          "other_asian_count": 0,
          "other_asian_percent": 0,
          "other_count": 115,
          "other_percent": 0.7,
          "three_count": 43,
          "three_percent": 0.3,
          "total": 15742,
          "two_count": 534,
          "two_percent": 3.4,
          "white_count": 13051,
          "white_percent": 82.9
         },
         {
          "ancestry_code": 404,
          "ancestry_name": "Libyan",
          "black_count": 966,
          "black_percent": 10.6,
          "chinese_count": 0,
          "chinese_percent": 0,
          "japanese_count": 0,
          "japanese_percent": 0,
          "native_count": 0,
          "native_percent": 0,
          "other_asian_count": 0,
          "other_asian_percent": 0,
          "other_count": 0,
          "other_percent": 0,
          "three_count": 0,
          "three_percent": 0,
          "total": 9100,
          "two_count": 311,
          "two_percent": 3.4,
          "white_count": 7823,
          "white_percent": 86
         },
         {
          "ancestry_code": 423,
          "ancestry_name": "Kuwaiti",
          "black_count": 0,
          "black_percent": 0,
          "chinese_count": 0,
          "chinese_percent": 0,
          "japanese_count": 0,
          "japanese_percent": 0,
          "native_count": 0,
          "native_percent": 0,
          "other_asian_count": 356,
          "other_asian_percent": 4.3,
          "other_count": 0,
          "other_percent": 0,
          "three_count": 0,
          "three_percent": 0,
          "total": 8309,
          "two_count": 0,
          "two_percent": 0,
          "white_count": 7953,
          "white_percent": 95.7
         }
        ]
       },
       "encoding": {
        "x": {
         "field": "white_percent",
         "title": "Percent",
         "type": "quantitative"
        },
        "y": {
         "field": "ancestry_name",
         "sort": {
          "field": "white_percent",
          "op": "sum",
          "order": "descending"
         },
         "title": "Ancestry",
         "type": "nominal"
        }
       },
       "mark": "bar",
       "title": "White percentage by ancestry",
       "width": 630
      },
      "image/png": "[encoded data removed]",
      "text/plain": [
       "<VegaLite 2 object>\n",
       "\n",
       "If you see this message, it means the renderer has not been properly enabled\n",
       "for the frontend that you are using. For more information, see\n",
       "https://altair-viz.github.io/user_guide/troubleshooting.html\n"
      ]
     },
     "execution_count": 106,
     "metadata": {},
     "output_type": "execute_result"
    }
   ],
   "source": [
    "alt.Chart(ipums_swana_data.sort_values(\"total\", ascending=False)).mark_bar().encode(\n",
    "    x=alt.X(\n",
    "        \"white_percent:Q\",\n",
    "        title=\"Percent\"\n",
    "    ),\n",
    "    y=alt.Y(\n",
    "        \"ancestry_name:N\",\n",
    "        title=\"Ancestry\",\n",
    "        sort=alt.EncodingSortField(field=\"white_percent\", op=\"sum\", order=\"descending\")\n",
    "    )\n",
    ").properties(\n",
    "    width=630,\n",
    "    title=\"White percentage by ancestry\"\n",
    ")"
   ]
  },
  {
   "cell_type": "markdown",
   "metadata": {},
   "source": [
    "Because the overall denominator we selected as our answer to the first question in this notebook includes the more expansive SWANA group, and in the interest of being conservative in our analysis, we decided its percentage figure in our story, despite the fact that a more restrictive definition like MENA would boost the figure. We reported that, \"more than 80% in this group have called themselves white.\""
   ]
  },
  {
   "cell_type": "markdown",
   "metadata": {},
   "source": [
    "### How many people in this group live in Los Angeles County?"
   ]
  },
  {
   "cell_type": "markdown",
   "metadata": {},
   "source": [
    "We ran a similar cut from the IPUMS microdata, this time limited the results to Los Angeles County."
   ]
  },
  {
   "cell_type": "code",
   "execution_count": 107,
   "metadata": {},
   "outputs": [],
   "source": [
    "ipums_la_ancestry_data = pd.read_csv(\"input/ipums-LA.csv\")"
   ]
  },
  {
   "cell_type": "markdown",
   "metadata": {},
   "source": [
    "Again we will filter to our target ancestries. We will skip straight to the broader SWANA definition that answered the questions above."
   ]
  },
  {
   "cell_type": "code",
   "execution_count": 108,
   "metadata": {},
   "outputs": [],
   "source": [
    "ipums_la_swana_data = ipums_la_ancestry_data[ipums_la_ancestry_data.ancestry_code.isin(ipums_swana_codes.ancestry_code)]"
   ]
  },
  {
   "cell_type": "markdown",
   "metadata": {},
   "source": [
    "Let's sum the total"
   ]
  },
  {
   "cell_type": "code",
   "execution_count": 109,
   "metadata": {},
   "outputs": [
    {
     "name": "stdout",
     "output_type": "stream",
     "text": [
      "356,633\n"
     ]
    }
   ],
   "source": [
    "print(\"{:,d}\".format(ipums_la_swana_data.total.sum()))"
   ]
  },
  {
   "cell_type": "markdown",
   "metadata": {},
   "source": [
    "As recommended by staff at IPUMS, we decided to compare counties by consulting another data set: The NHGIS geospatial database. It provides ancestry totals by county."
   ]
  },
  {
   "cell_type": "code",
   "execution_count": 110,
   "metadata": {},
   "outputs": [],
   "source": [
    "nhgis_ancestry_data = pd.read_csv(\"input/nhgis0003_ds234_20175_2017_county_clean.csv\")"
   ]
  },
  {
   "cell_type": "markdown",
   "metadata": {},
   "source": [
    "Just like the ACS and IPUMS data, the NHGIS dataset has its own unique set of codes for describing ancestry answers. Again, we decoded them so we could limit the data to the group we're studying."
   ]
  },
  {
   "cell_type": "code",
   "execution_count": 111,
   "metadata": {},
   "outputs": [],
   "source": [
    "nhgis_swana_codes = {\n",
    "  \"AH8TE002\": \"Afghan\",\n",
    "  \"AH8TE007\": \"Arab Egyptian\",\n",
    "  \"AH8TE008\": \"Arab Iraqi\",\n",
    "  \"AH8TE009\": \"Arab Jordanian\",\n",
    "  \"AH8TE010\": \"Arab Lebanese\",\n",
    "  \"AH8TE011\": \"Arab Moroccan\",\n",
    "  \"AH8TE012\": \"Arab Palestinian\",\n",
    "  \"AH8TE013\": \"Arab Syrian\",\n",
    "  \"AH8TE014\": \"Arab Arab\",\n",
    "  \"AH8TE015\": \"Arab Other Arab\",\n",
    "  \"AH8TE016\": \"Armenian\",\n",
    "  \"AH8TE017\": \"Assyrian/Chaldean/Syriac\",\n",
    "  \"AH8TE082\": \"Subsaharan African Somali\",\n",
    "  \"AH8TE050\": \"Israeli\",\n",
    "  \"AH8TE048\": \"Iranian\",\n",
    "  \"AH8TE091\": \"Turkish\"\n",
    "}"
   ]
  },
  {
   "cell_type": "markdown",
   "metadata": {},
   "source": [
    "We will use those to filter and trim the data to only what we need."
   ]
  },
  {
   "cell_type": "code",
   "execution_count": 112,
   "metadata": {},
   "outputs": [],
   "source": [
    "nhgis_metadata = [\n",
    "    'AH8TE001',\n",
    "    'GISJOIN',\n",
    "    'YEAR',\n",
    "    'STATE',\n",
    "    'STATEA',\n",
    "    'COUNTY',\n",
    "    'COUNTYA',\n",
    "    'NAME_E',\n",
    "]"
   ]
  },
  {
   "cell_type": "code",
   "execution_count": 113,
   "metadata": {},
   "outputs": [],
   "source": [
    "nhgis_swana_data = nhgis_ancestry_data[nhgis_metadata + list(nhgis_swana_codes.keys())]"
   ]
  },
  {
   "cell_type": "markdown",
   "metadata": {},
   "source": [
    "The unique identifier of each county, the FIPS code, needs a little cleaning."
   ]
  },
  {
   "cell_type": "code",
   "execution_count": 114,
   "metadata": {},
   "outputs": [],
   "source": [
    "nhgis_swana_data['GEOID'] = nhgis_swana_data['GISJOIN'].str.slice(1,3) + nhgis_swana_data['GISJOIN'].str.slice(4,7)"
   ]
  },
  {
   "cell_type": "markdown",
   "metadata": {},
   "source": [
    "Now we will calculate the SWANA total for each county using the ancestry codes."
   ]
  },
  {
   "cell_type": "code",
   "execution_count": 115,
   "metadata": {},
   "outputs": [],
   "source": [
    "nhgis_swana_data['swana'] = nhgis_swana_data[list(nhgis_swana_codes.keys())].sum(axis=1)"
   ]
  },
  {
   "cell_type": "markdown",
   "metadata": {},
   "source": [
    "And decode the column names so we can read them."
   ]
  },
  {
   "cell_type": "code",
   "execution_count": 116,
   "metadata": {},
   "outputs": [],
   "source": [
    "nhgis_swana_data.rename(\n",
    "    columns=nhgis_swana_codes,\n",
    ").rename(\n",
    "    columns={\"AH8TE001\": \"Total\"},\n",
    "    inplace=True\n",
    ")"
   ]
  },
  {
   "cell_type": "markdown",
   "metadata": {},
   "source": [
    "To make sure we're in the ballpark of our early estimates, let's proof the nationwide SWANA total from this dataset."
   ]
  },
  {
   "cell_type": "code",
   "execution_count": 117,
   "metadata": {},
   "outputs": [
    {
     "name": "stdout",
     "output_type": "stream",
     "text": [
      "3,616,149\n"
     ]
    }
   ],
   "source": [
    "print(\"{:,d}\".format(nhgis_swana_data.swana.sum()))"
   ]
  },
  {
   "cell_type": "code",
   "execution_count": 118,
   "metadata": {},
   "outputs": [
    {
     "data": {
      "text/html": [
       "<div>\n",
       "<style scoped>\n",
       "    .dataframe tbody tr th:only-of-type {\n",
       "        vertical-align: middle;\n",
       "    }\n",
       "\n",
       "    .dataframe tbody tr th {\n",
       "        vertical-align: top;\n",
       "    }\n",
       "\n",
       "    .dataframe thead th {\n",
       "        text-align: right;\n",
       "    }\n",
       "</style>\n",
       "<table border=\"1\" class=\"dataframe\">\n",
       "  <thead>\n",
       "    <tr style=\"text-align: right;\">\n",
       "      <th></th>\n",
       "      <th>GEOID</th>\n",
       "      <th>STATE</th>\n",
       "      <th>COUNTY</th>\n",
       "      <th>swana</th>\n",
       "    </tr>\n",
       "  </thead>\n",
       "  <tbody>\n",
       "    <tr>\n",
       "      <th>204</th>\n",
       "      <td>06037</td>\n",
       "      <td>California</td>\n",
       "      <td>Los Angeles County</td>\n",
       "      <td>389905</td>\n",
       "    </tr>\n",
       "    <tr>\n",
       "      <th>1312</th>\n",
       "      <td>26163</td>\n",
       "      <td>Michigan</td>\n",
       "      <td>Wayne County</td>\n",
       "      <td>102350</td>\n",
       "    </tr>\n",
       "    <tr>\n",
       "      <th>610</th>\n",
       "      <td>17031</td>\n",
       "      <td>Illinois</td>\n",
       "      <td>Cook County</td>\n",
       "      <td>101300</td>\n",
       "    </tr>\n",
       "    <tr>\n",
       "      <th>215</th>\n",
       "      <td>06059</td>\n",
       "      <td>California</td>\n",
       "      <td>Orange County</td>\n",
       "      <td>92354</td>\n",
       "    </tr>\n",
       "    <tr>\n",
       "      <th>222</th>\n",
       "      <td>06073</td>\n",
       "      <td>California</td>\n",
       "      <td>San Diego County</td>\n",
       "      <td>84065</td>\n",
       "    </tr>\n",
       "    <tr>\n",
       "      <th>1851</th>\n",
       "      <td>36047</td>\n",
       "      <td>New York</td>\n",
       "      <td>Kings County</td>\n",
       "      <td>63800</td>\n",
       "    </tr>\n",
       "    <tr>\n",
       "      <th>1293</th>\n",
       "      <td>26125</td>\n",
       "      <td>Michigan</td>\n",
       "      <td>Oakland County</td>\n",
       "      <td>56407</td>\n",
       "    </tr>\n",
       "    <tr>\n",
       "      <th>2848</th>\n",
       "      <td>51059</td>\n",
       "      <td>Virginia</td>\n",
       "      <td>Fairfax County</td>\n",
       "      <td>54953</td>\n",
       "    </tr>\n",
       "    <tr>\n",
       "      <th>1280</th>\n",
       "      <td>26099</td>\n",
       "      <td>Michigan</td>\n",
       "      <td>Macomb County</td>\n",
       "      <td>54799</td>\n",
       "    </tr>\n",
       "    <tr>\n",
       "      <th>2623</th>\n",
       "      <td>48201</td>\n",
       "      <td>Texas</td>\n",
       "      <td>Harris County</td>\n",
       "      <td>53402</td>\n",
       "    </tr>\n",
       "  </tbody>\n",
       "</table>\n",
       "</div>"
      ],
      "text/plain": [
       "      GEOID       STATE              COUNTY   swana\n",
       "204   06037  California  Los Angeles County  389905\n",
       "1312  26163    Michigan        Wayne County  102350\n",
       "610   17031    Illinois         Cook County  101300\n",
       "215   06059  California       Orange County   92354\n",
       "222   06073  California    San Diego County   84065\n",
       "1851  36047    New York        Kings County   63800\n",
       "1293  26125    Michigan      Oakland County   56407\n",
       "2848  51059    Virginia      Fairfax County   54953\n",
       "1280  26099    Michigan       Macomb County   54799\n",
       "2623  48201       Texas       Harris County   53402"
      ]
     },
     "execution_count": 118,
     "metadata": {},
     "output_type": "execute_result"
    }
   ],
   "source": [
    "nhgis_swana_data[\n",
    "    ['GEOID', 'STATE', 'COUNTY', 'swana']\n",
    "].sort_values(\"swana\", ascending=False).head(10)"
   ]
  },
  {
   "cell_type": "markdown",
   "metadata": {},
   "source": [
    "Because the NGHIS total for Los Angeles County is slightly higher than the IPUMS story, we decided to describe the population as \"more than 350,000 people \\[who\\] can trace their roots to a region that stretches from Mauritania to the mountains of Afghanistan.\""
   ]
  },
  {
   "cell_type": "markdown",
   "metadata": {},
   "source": [
    "Since New York City is divided into different counties, let's add them up to see if where the combined area would rank."
   ]
  },
  {
   "cell_type": "code",
   "execution_count": 119,
   "metadata": {},
   "outputs": [],
   "source": [
    "nyc = [\n",
    "    'New York County',\n",
    "    'Bronx County',\n",
    "    'Kings County',\n",
    "    'Queens County',\n",
    "    'Richmond County'\n",
    "]"
   ]
  },
  {
   "cell_type": "code",
   "execution_count": 120,
   "metadata": {},
   "outputs": [
    {
     "data": {
      "text/plain": [
       "163165"
      ]
     },
     "execution_count": 120,
     "metadata": {},
     "output_type": "execute_result"
    }
   ],
   "source": [
    "nhgis_swana_data[\n",
    "    (nhgis_swana_data.STATE == 'New York') &\n",
    "    (nhgis_swana_data.COUNTY.isin(nyc))\n",
    "].sort_values(\"swana\", ascending=False).swana.sum()"
   ]
  },
  {
   "cell_type": "markdown",
   "metadata": {},
   "source": [
    "Having established that, we decided it was fair to say, \"No county is home to more of these communities than Los Angeles.\""
   ]
  }
 ],
 "metadata": {
  "kernelspec": {
   "display_name": "Python 2",
   "language": "python",
   "name": "python2"
  },
  "language_info": {
   "codemirror_mode": {
    "name": "ipython",
    "version": 2
   },
   "file_extension": ".py",
   "mimetype": "text/x-python",
   "name": "python",
   "nbconvert_exporter": "python",
   "pygments_lexer": "ipython2",
   "version": "2.7.12"
  }
 },
 "nbformat": 4,
 "nbformat_minor": 2
}
